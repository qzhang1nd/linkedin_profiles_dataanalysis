{
 "cells": [
  {
   "cell_type": "code",
   "execution_count": 2,
   "metadata": {
    "scrolled": true
   },
   "outputs": [
    {
     "data": {
      "text/html": [
       "<script type=\"text/javascript\">window.PlotlyConfig = {MathJaxConfig: 'local'};</script><script type=\"text/javascript\">if (window.MathJax) {MathJax.Hub.Config({SVG: {font: \"STIX-Web\"}});}</script><script>requirejs.config({paths: { 'plotly': ['https://cdn.plot.ly/plotly-latest.min']},});if(!window._Plotly) {require(['plotly'],function(plotly) {window._Plotly=plotly;});}</script>"
      ],
      "text/vnd.plotly.v1+html": [
       "<script type=\"text/javascript\">window.PlotlyConfig = {MathJaxConfig: 'local'};</script><script type=\"text/javascript\">if (window.MathJax) {MathJax.Hub.Config({SVG: {font: \"STIX-Web\"}});}</script><script>requirejs.config({paths: { 'plotly': ['https://cdn.plot.ly/plotly-latest.min']},});if(!window._Plotly) {require(['plotly'],function(plotly) {window._Plotly=plotly;});}</script>"
      ]
     },
     "metadata": {},
     "output_type": "display_data"
    },
    {
     "data": {
      "text/html": [
       "<div>\n",
       "<style scoped>\n",
       "    .dataframe tbody tr th:only-of-type {\n",
       "        vertical-align: middle;\n",
       "    }\n",
       "\n",
       "    .dataframe tbody tr th {\n",
       "        vertical-align: top;\n",
       "    }\n",
       "\n",
       "    .dataframe thead th {\n",
       "        text-align: right;\n",
       "    }\n",
       "</style>\n",
       "<table border=\"1\" class=\"dataframe\">\n",
       "  <thead>\n",
       "    <tr style=\"text-align: right;\">\n",
       "      <th></th>\n",
       "      <th>dataset_id</th>\n",
       "      <th>as_of_date</th>\n",
       "      <th>company_name</th>\n",
       "      <th>followers_count</th>\n",
       "      <th>employees_on_platform</th>\n",
       "      <th>industry</th>\n",
       "    </tr>\n",
       "  </thead>\n",
       "  <tbody>\n",
       "    <tr>\n",
       "      <th>0</th>\n",
       "      <td>58329</td>\n",
       "      <td>2015-09-14</td>\n",
       "      <td>Goldman Sachs</td>\n",
       "      <td>552254</td>\n",
       "      <td>38124</td>\n",
       "      <td>Investment Banking</td>\n",
       "    </tr>\n",
       "    <tr>\n",
       "      <th>1</th>\n",
       "      <td>58329</td>\n",
       "      <td>2015-09-15</td>\n",
       "      <td>Goldman Sachs</td>\n",
       "      <td>552862</td>\n",
       "      <td>38141</td>\n",
       "      <td>Investment Banking</td>\n",
       "    </tr>\n",
       "    <tr>\n",
       "      <th>2</th>\n",
       "      <td>58363</td>\n",
       "      <td>2015-09-16</td>\n",
       "      <td>United Technologies</td>\n",
       "      <td>59157</td>\n",
       "      <td>14982</td>\n",
       "      <td>Aviation &amp; Aerospace</td>\n",
       "    </tr>\n",
       "    <tr>\n",
       "      <th>3</th>\n",
       "      <td>58366</td>\n",
       "      <td>2015-09-16</td>\n",
       "      <td>Novo Nordisk</td>\n",
       "      <td>336175</td>\n",
       "      <td>26448</td>\n",
       "      <td>Pharmaceuticals</td>\n",
       "    </tr>\n",
       "    <tr>\n",
       "      <th>4</th>\n",
       "      <td>58371</td>\n",
       "      <td>2015-09-16</td>\n",
       "      <td>Lowe's Companies, Inc.</td>\n",
       "      <td>134255</td>\n",
       "      <td>62574</td>\n",
       "      <td>Retail</td>\n",
       "    </tr>\n",
       "  </tbody>\n",
       "</table>\n",
       "</div>"
      ],
      "text/plain": [
       "   dataset_id  as_of_date            company_name  followers_count  \\\n",
       "0       58329  2015-09-14           Goldman Sachs           552254   \n",
       "1       58329  2015-09-15           Goldman Sachs           552862   \n",
       "2       58363  2015-09-16     United Technologies            59157   \n",
       "3       58366  2015-09-16            Novo Nordisk           336175   \n",
       "4       58371  2015-09-16  Lowe's Companies, Inc.           134255   \n",
       "\n",
       "   employees_on_platform              industry  \n",
       "0                  38124    Investment Banking  \n",
       "1                  38141    Investment Banking  \n",
       "2                  14982  Aviation & Aerospace  \n",
       "3                  26448       Pharmaceuticals  \n",
       "4                  62574                Retail  "
      ]
     },
     "execution_count": 2,
     "metadata": {},
     "output_type": "execute_result"
    }
   ],
   "source": [
    "import pandas as pd\n",
    "import numpy as np\n",
    "import matplotlib.pyplot as plt\n",
    "import seaborn as sns\n",
    "from plotly.offline import init_notebook_mode, iplot\n",
    "init_notebook_mode(connected=True)\n",
    "import plotly.graph_objs as go\n",
    "from scipy import stats\n",
    "linkedin = pd.read_csv(\"linkedin_company.csv\",low_memory=False)\n",
    "linkedin=linkedin.drop(['link','date_added','date_updated','description','website','entity_id','cusip','isin'],axis=1)\n",
    "linkedin.head()"
   ]
  },
  {
   "cell_type": "code",
   "execution_count": 3,
   "metadata": {
    "scrolled": false
   },
   "outputs": [
    {
     "data": {
      "application/vnd.plotly.v1+json": {
       "config": {
        "linkText": "Export to plot.ly",
        "plotlyServerURL": "https://plot.ly",
        "showLink": false
       },
       "data": [
        {
         "name": "2018",
         "orientation": "h",
         "type": "bar",
         "uid": "d3882c51-f8d5-4465-b768-9d83063146d4",
         "x": [
          7833967,
          5563173,
          5188572,
          4743555,
          4525919,
          4301136,
          3486823,
          3409892,
          3335998,
          3089557
         ],
         "y": [
          [
           "Google",
           "Microsoft",
           "Amazon",
           "Apple",
           "IBM",
           "The Wall Street Journal",
           "LinkedIn",
           "Accenture",
           "Unilever",
           "The New York Times"
          ],
          [
           0,
           2,
           8,
           -2,
           -2,
           "NA",
           2,
           -2,
           -2,
           "NA"
          ]
         ]
        },
        {
         "name": "2015",
         "orientation": "h",
         "type": "bar",
         "uid": "08aac76d-ce27-4c7d-bdc6-420d42bef649",
         "x": [
          3615989,
          2539829,
          1311936,
          2587280,
          2542182,
          0,
          1422976,
          2063480,
          1719887,
          0
         ],
         "y": [
          [
           "Google",
           "Microsoft",
           "Amazon",
           "Apple",
           "IBM",
           "The Wall Street Journal",
           "LinkedIn",
           "Accenture",
           "Unilever",
           "The New York Times"
          ],
          [
           0,
           2,
           8,
           -2,
           -2,
           "NA",
           2,
           -2,
           -2,
           "NA"
          ]
         ]
        }
       ],
       "layout": {
        "barmode": "group",
        "title": {
         "text": "2018 TOP 10 followed company at Linkedin"
        },
        "xaxis": {
         "title": {
          "text": "Followers Count"
         }
        },
        "yaxis": {
         "autorange": "reversed"
        }
       }
      },
      "text/html": [
       "<div id=\"e5b9f834-329c-40db-a949-d21237f30beb\" style=\"height: 525px; width: 100%;\" class=\"plotly-graph-div\"></div><script type=\"text/javascript\">require([\"plotly\"], function(Plotly) { window.PLOTLYENV=window.PLOTLYENV || {};window.PLOTLYENV.BASE_URL=\"https://plot.ly\";Plotly.newPlot(\"e5b9f834-329c-40db-a949-d21237f30beb\", [{\"name\": \"2018\", \"orientation\": \"h\", \"x\": [7833967, 5563173, 5188572, 4743555, 4525919, 4301136, 3486823, 3409892, 3335998, 3089557], \"y\": [[\"Google\", \"Microsoft\", \"Amazon\", \"Apple\", \"IBM\", \"The Wall Street Journal\", \"LinkedIn\", \"Accenture\", \"Unilever\", \"The New York Times\"], [0.0, 2.0, 8.0, -2.0, -2.0, \"NA\", 2.0, -2.0, -2.0, \"NA\"]], \"type\": \"bar\", \"uid\": \"d3882c51-f8d5-4465-b768-9d83063146d4\"}, {\"name\": \"2015\", \"orientation\": \"h\", \"x\": [3615989.0, 2539829.0, 1311936.0, 2587280.0, 2542182.0, 0.0, 1422976.0, 2063480.0, 1719887.0, 0.0], \"y\": [[\"Google\", \"Microsoft\", \"Amazon\", \"Apple\", \"IBM\", \"The Wall Street Journal\", \"LinkedIn\", \"Accenture\", \"Unilever\", \"The New York Times\"], [0.0, 2.0, 8.0, -2.0, -2.0, \"NA\", 2.0, -2.0, -2.0, \"NA\"]], \"type\": \"bar\", \"uid\": \"08aac76d-ce27-4c7d-bdc6-420d42bef649\"}], {\"barmode\": \"group\", \"title\": {\"text\": \"2018 TOP 10 followed company at Linkedin\"}, \"xaxis\": {\"title\": {\"text\": \"Followers Count\"}}, \"yaxis\": {\"autorange\": \"reversed\"}}, {\"showLink\": false, \"linkText\": \"Export to plot.ly\", \"plotlyServerURL\": \"https://plot.ly\"})});</script><script type=\"text/javascript\">window.addEventListener(\"resize\", function(){window._Plotly.Plots.resize(document.getElementById(\"e5b9f834-329c-40db-a949-d21237f30beb\"));});</script>"
      ],
      "text/vnd.plotly.v1+html": [
       "<div id=\"e5b9f834-329c-40db-a949-d21237f30beb\" style=\"height: 525px; width: 100%;\" class=\"plotly-graph-div\"></div><script type=\"text/javascript\">require([\"plotly\"], function(Plotly) { window.PLOTLYENV=window.PLOTLYENV || {};window.PLOTLYENV.BASE_URL=\"https://plot.ly\";Plotly.newPlot(\"e5b9f834-329c-40db-a949-d21237f30beb\", [{\"name\": \"2018\", \"orientation\": \"h\", \"x\": [7833967, 5563173, 5188572, 4743555, 4525919, 4301136, 3486823, 3409892, 3335998, 3089557], \"y\": [[\"Google\", \"Microsoft\", \"Amazon\", \"Apple\", \"IBM\", \"The Wall Street Journal\", \"LinkedIn\", \"Accenture\", \"Unilever\", \"The New York Times\"], [0.0, 2.0, 8.0, -2.0, -2.0, \"NA\", 2.0, -2.0, -2.0, \"NA\"]], \"type\": \"bar\", \"uid\": \"d3882c51-f8d5-4465-b768-9d83063146d4\"}, {\"name\": \"2015\", \"orientation\": \"h\", \"x\": [3615989.0, 2539829.0, 1311936.0, 2587280.0, 2542182.0, 0.0, 1422976.0, 2063480.0, 1719887.0, 0.0], \"y\": [[\"Google\", \"Microsoft\", \"Amazon\", \"Apple\", \"IBM\", \"The Wall Street Journal\", \"LinkedIn\", \"Accenture\", \"Unilever\", \"The New York Times\"], [0.0, 2.0, 8.0, -2.0, -2.0, \"NA\", 2.0, -2.0, -2.0, \"NA\"]], \"type\": \"bar\", \"uid\": \"08aac76d-ce27-4c7d-bdc6-420d42bef649\"}], {\"barmode\": \"group\", \"title\": {\"text\": \"2018 TOP 10 followed company at Linkedin\"}, \"xaxis\": {\"title\": {\"text\": \"Followers Count\"}}, \"yaxis\": {\"autorange\": \"reversed\"}}, {\"showLink\": false, \"linkText\": \"Export to plot.ly\", \"plotlyServerURL\": \"https://plot.ly\"})});</script><script type=\"text/javascript\">window.addEventListener(\"resize\", function(){window._Plotly.Plots.resize(document.getElementById(\"e5b9f834-329c-40db-a949-d21237f30beb\"));});</script>"
      ]
     },
     "metadata": {},
     "output_type": "display_data"
    }
   ],
   "source": [
    "Now=linkedin[linkedin['as_of_date']>='2018-01-01'].drop_duplicates(subset='dataset_id',keep='last')\n",
    "Past=linkedin[linkedin['as_of_date']<'2016-01-01'].drop_duplicates(subset='dataset_id',keep='first')\n",
    "Past=Past.sort_values('followers_count',ascending=False).reset_index(drop=True)\n",
    "Past.loc[:,'rank_2015']=Past.index\n",
    "Top10_Now=Now.sort_values('followers_count',ascending=False).head(10)\n",
    "Top10=pd.merge(Top10_Now,Past,how='left',on='dataset_id')\n",
    "Top10.followers_count_y.fillna(0,inplace=True)\n",
    "Top10.loc[:,'rank_increase']=Top10.rank_2015-Top10.index\n",
    "Top10.rank_increase.fillna('NA',inplace=True)\n",
    "trace1=go.Bar(\n",
    "            y=[Top10.company_name_x,Top10.rank_increase],\n",
    "            x=Top10.followers_count_x,\n",
    "            name='2018',\n",
    "            orientation='h'\n",
    "            )\n",
    "\n",
    "trace2=go.Bar(\n",
    "            y=[Top10.company_name_x,Top10.rank_increase],\n",
    "            x=Top10.followers_count_y,\n",
    "            name='2015',\n",
    "            orientation='h'\n",
    "            )\n",
    "layout=go.Layout(\n",
    "                barmode='group',\n",
    "                title='2018 TOP 10 followed company at Linkedin',\n",
    "                yaxis=dict(autorange='reversed'),\n",
    "                xaxis=dict(title='Followers Count'),\n",
    "                )\n",
    "\n",
    "iplot(go.Figure(data=[trace1,trace2],layout=layout))"
   ]
  },
  {
   "cell_type": "code",
   "execution_count": null,
   "metadata": {},
   "outputs": [],
   "source": []
  }
 ],
 "metadata": {
  "kernelspec": {
   "display_name": "Python 3",
   "language": "python",
   "name": "python3"
  },
  "language_info": {
   "codemirror_mode": {
    "name": "ipython",
    "version": 3
   },
   "file_extension": ".py",
   "mimetype": "text/x-python",
   "name": "python",
   "nbconvert_exporter": "python",
   "pygments_lexer": "ipython3",
   "version": "3.7.1"
  }
 },
 "nbformat": 4,
 "nbformat_minor": 2
}
